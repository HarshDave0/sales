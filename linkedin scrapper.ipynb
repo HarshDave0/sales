{
 "cells": [
  {
   "cell_type": "code",
   "execution_count": 1,
   "metadata": {},
   "outputs": [],
   "source": [
    "from selenium.webdriver import ActionChains\n",
    "from selenium import webdriver\n",
    "from bs4 import BeautifulSoup\n",
    "import pandas as pd\n",
    "import time"
   ]
  },
  {
   "cell_type": "code",
   "execution_count": 2,
   "metadata": {},
   "outputs": [],
   "source": [
    "def combinations(name):\n",
    "    string=name.upper().split(\" \")\n",
    "    combinations=[\" \".join(string[:x+1]) for x in range(0,len(string)) ]\n",
    "    combinations.reverse()\n",
    "    return combinations"
   ]
  },
  {
   "cell_type": "code",
   "execution_count": 3,
   "metadata": {
    "scrolled": true
   },
   "outputs": [],
   "source": [
    "browser = webdriver.Chrome()\n",
    "browser.get('https://www.linkedin.com/')\n",
    "browser.implicitly_wait(5)\n",
    "elem = browser.find_element_by_name('session_key')\n",
    "elem.clear()\n",
    "elem.send_keys(\"\") # your email id \n",
    "elem = browser.find_element_by_name('session_password')\n",
    "elem.clear()\n",
    "elem.send_keys(\"\") # your password\n",
    "submit = browser.find_element_by_xpath(\"//*[@type='submit']\")\n",
    "actions = ActionChains(browser)\n",
    "actions.click(submit)\n",
    "actions.perform() \n",
    "df=pd.read_csv(\"companies_name.csv\")\n",
    "companies=df[\"Company Name\"]\n",
    "companies=companies.dropna()\n",
    "\n",
    "names=[]\n",
    "websites=[]\n",
    "headquarterss=[]\n",
    "yearfoundeds=[]\n",
    "companytypes=[]\n",
    "sizes=[]\n",
    "specialitys=[]\n",
    "information=[]\n",
    "\n",
    "\n",
    "for company in list(companies):\n",
    "    companies_name=combinations(company)\n",
    "    for name in companies_name:\n",
    "\n",
    "\n",
    "        try:    \n",
    "                browser.get('https://www.linkedin.com/company')\n",
    "                search=browser.find_element_by_class_name(\"typeahead__input\")\n",
    "                search.send_keys(name)\n",
    "                time.sleep(3)\n",
    "                if browser.find_element_by_xpath(\"/html/body/main/section[1]/section/div/ul/li[1]/a\"):\n",
    "                    print(company)\n",
    "                    elem=browser.find_element_by_xpath(\"/html/body/main/section[1]/section/div/ul/li[1]/a\")\n",
    "                    elem.click()\n",
    "                    time.sleep(2) \n",
    "                    soup = BeautifulSoup(browser.page_source, 'lxml')\n",
    "                    text = soup.text.replace(\"\\n\", \"$\")\n",
    "\n",
    "                    text = text.replace(\"  \", \"\")\n",
    "                    text = text.replace(\"$$\", \"$\")\n",
    "                    string = text[text.find(\"Company details\") + len(\"Company details\") + 1: text.find(\"See more details about\")]\n",
    "                    string = string.split(\"$\")\n",
    "                    for itr in range(0, len(string)):\n",
    "                        try:\n",
    "                            string.remove(\" \")\n",
    "                        except:\n",
    "                              pass\n",
    "                        try:\n",
    "                            string.remove(\" \")\n",
    "                        except:\n",
    "                              pass\n",
    "                        try:\n",
    "                            string.remove(\"\")\n",
    "                        except:\n",
    "                              pass\n",
    "                    \n",
    "                    dictionary = {}\n",
    "                    for itr in range(0, len(string) - 1, 2):\n",
    "                        dictionary[string[itr]] = string[itr + 1]\n",
    "                    data = []\n",
    "                    data.append(company)\n",
    "                    data.append(name)\n",
    "                    main = {\n",
    "                      \"Website\": 0,\n",
    "                      \"Headquarters\": 0,\n",
    "                      \"Year founded\": 0,\n",
    "                      \"Company type\": 0,\n",
    "                      \"Company size\": 0,\n",
    "                      \"Specialties\": 0\n",
    "                    }\n",
    "                    for key in dictionary.keys():\n",
    "                        if key in main:\n",
    "                              main[key] = dictionary[key]\n",
    "                    for value in main.values():\n",
    "                        data.append(value)\n",
    "\n",
    "                    information.append(data)\n",
    "                    break\n",
    "        except:\n",
    "            pass"
   ]
  },
  {
   "cell_type": "code",
   "execution_count": 4,
   "metadata": {},
   "outputs": [],
   "source": [
    "pd.DataFrame(information).to_csv(\"companies_data_linked.csv\",index=False)"
   ]
  }
 ],
 "metadata": {
  "kernelspec": {
   "display_name": "Python 3",
   "language": "python",
   "name": "python3"
  },
  "language_info": {
   "codemirror_mode": {
    "name": "ipython",
    "version": 3
   },
   "file_extension": ".py",
   "mimetype": "text/x-python",
   "name": "python",
   "nbconvert_exporter": "python",
   "pygments_lexer": "ipython3",
   "version": "3.6.5"
  }
 },
 "nbformat": 4,
 "nbformat_minor": 2
}
