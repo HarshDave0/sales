{
 "cells": [
  {
   "cell_type": "code",
   "execution_count": 1,
   "metadata": {},
   "outputs": [],
   "source": [
    "import pandas as pd\n",
    "from selenium.webdriver import ActionChains\n",
    "from selenium import webdriver\n",
    "from bs4 import BeautifulSoup\n",
    "import pandas as pd\n",
    "import time\n",
    "import selenium\n",
    "from selenium.webdriver.common.keys import Keys\n"
   ]
  },
  {
   "cell_type": "code",
   "execution_count": 2,
   "metadata": {},
   "outputs": [],
   "source": [
    "companies=list(pd.read_csv(\"companies_name.csv\")[\"Company Name\"])"
   ]
  },
  {
   "cell_type": "code",
   "execution_count": 3,
   "metadata": {},
   "outputs": [],
   "source": [
    "def combinations(name):\n",
    "    string=name.lower().split(\" \")\n",
    "    combinations=[\"-\".join(string[:x+1]) for x in range(0,len(string)) ]\n",
    "    combinations.reverse()\n",
    "    return combinations"
   ]
  },
  {
   "cell_type": "code",
   "execution_count": 4,
   "metadata": {},
   "outputs": [],
   "source": [
    "browser.get(\"https://www.crunchbase.com/login\")\n",
    "time.sleep(3)\n",
    "elem = browser.find_element_by_name('email')\n",
    "elem.clear()\n",
    "elem.send_keys(\"\") # your email id \n",
    "elem = browser.find_element_by_name('password')\n",
    "elem.clear()\n",
    "elem.send_keys(\"\") # your password\n",
    "submit = browser.find_element_by_xpath(\"//*[@type='submit']\")\n",
    "actions = ActionChains(browser)\n",
    "actions.click(submit)\n",
    "actions.perform() \n",
    "companies_data=[]\n",
    "for company_name in companies:\n",
    "    names=combinations(company_name)\n",
    "    for name in names:\n",
    "        try:\n",
    "            browser.get('https://www.crunchbase.com/organization/'+name)\n",
    "            time.sleep(2)\n",
    "            overview_data=browser.find_element_by_xpath(\"//*[@id='section-overview']\")\n",
    "            data_dict={\"Name\":\"Nan\",\"Categories \":\"Nan\",\"Headquarters Regions \":\"Nan\",\"Founded Date \":\"Nan\",\"Number of Employees \":\"Nan\",\"IPO Status \":\"Nan\",\"Company Type \":\"Nan\",\"Website \":\"Nan\",\"Contact Email '\":\"Nan\",\"Phone Number \":\"Nan\",\"Revenue\":\"Nan\"}\n",
    "            data_dict[\"Name\"]=browser.title[:browser.title.find(\"|\")]\n",
    "            for itr in range(0,len(overview_data)):\n",
    "                if data[itr] in data_dict:\n",
    "                    data_dict[data[itr]]=data[itr+1]\n",
    "            data_dict[\"Revenue\"]=browser.find_element_by_xpath(\"//*[@id='section-competitors-revenue-by-owler']\").text.split(\"\\n\")[1]\n",
    "            data_dict[\"Company_Name\"]=name\n",
    "            companies_data.append(data_dict)\n",
    "            print(name)\n",
    "\n",
    "            break\n",
    "        except:\n",
    "            pass"
   ]
  },
  {
   "cell_type": "code",
   "execution_count": 5,
   "metadata": {},
   "outputs": [],
   "source": [
    "pd.DataFrame(companies_data).to_csv(\"companies_data_crunchbase.csv\",index=False)"
   ]
  }
 ],
 "metadata": {
  "kernelspec": {
   "display_name": "Python 3",
   "language": "python",
   "name": "python3"
  },
  "language_info": {
   "codemirror_mode": {
    "name": "ipython",
    "version": 3
   },
   "file_extension": ".py",
   "mimetype": "text/x-python",
   "name": "python",
   "nbconvert_exporter": "python",
   "pygments_lexer": "ipython3",
   "version": "3.6.5"
  }
 },
 "nbformat": 4,
 "nbformat_minor": 2
}
