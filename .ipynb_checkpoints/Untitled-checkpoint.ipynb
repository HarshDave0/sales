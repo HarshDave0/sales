{
 "cells": [
  {
   "cell_type": "code",
   "execution_count": null,
   "metadata": {},
   "outputs": [],
   "source": [
    "import pandas as pd\n",
    "import numpy as np\n",
    "import os\n",
    "from sklearn import metrics\n",
    "import pickle\n",
    "import scikitplot as skplt\n",
    "import matplotlib\n",
    "from sklearn.preprocessing import LabelEncoder\n",
    "import matplotlib.pyplot as plt\n",
    "from sklearn.metrics import roc_curve, auc\n",
    "import autosklearn.classification\n",
    "import warnings\n",
    "from sklearn.cross_validation import train_test_split\n",
    "warnings.simplefilter('ignore', DeprecationWarning)\n",
    "warnings.simplefilter('ignore', RuntimeWarning)\n",
    "warnings.filterwarnings(\"ignore\",category=matplotlib.cbook.mplDeprecation)"
   ]
  },
  {
   "cell_type": "code",
   "execution_count": null,
   "metadata": {},
   "outputs": [],
   "source": [
    "df=pd.read_csv(\"data_linkedin_scrapped.csv\")\n",
    "label=LabelEncoder()\n",
    "label.fit(df[\"Category\"])\n",
    "df[\"category_encoded\"]=label.transform(df[\"Category\"])\n",
    "label=LabelEncoder()\n",
    "label.fit(df[\"size category\"])\n",
    "df[\"size_label\"]=label.transform(df[\"size category\"])\n",
    "label=LabelEncoder()\n",
    "label.fit(df[\"country_category\"])\n",
    "df[\"country_encoded\"]=label.transform(df[\"country_category\"])\n",
    "df"
   ]
  }
 ],
 "metadata": {
  "kernelspec": {
   "display_name": "Python 3",
   "language": "python",
   "name": "python3"
  },
  "language_info": {
   "codemirror_mode": {
    "name": "ipython",
    "version": 3
   },
   "file_extension": ".py",
   "mimetype": "text/x-python",
   "name": "python",
   "nbconvert_exporter": "python",
   "pygments_lexer": "ipython3",
   "version": "3.6.5"
  }
 },
 "nbformat": 4,
 "nbformat_minor": 2
}
