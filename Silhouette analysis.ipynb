{
 "cells": [
  {
   "cell_type": "code",
   "execution_count": 1,
   "metadata": {},
   "outputs": [],
   "source": [
    "import pandas as pd\n",
    "import numpy as np\n",
    "from sklearn.metrics import silhouette_score"
   ]
  },
  {
   "cell_type": "code",
   "execution_count": 2,
   "metadata": {},
   "outputs": [
    {
     "data": {
      "text/html": [
       "<div>\n",
       "<style scoped>\n",
       "    .dataframe tbody tr th:only-of-type {\n",
       "        vertical-align: middle;\n",
       "    }\n",
       "\n",
       "    .dataframe tbody tr th {\n",
       "        vertical-align: top;\n",
       "    }\n",
       "\n",
       "    .dataframe thead th {\n",
       "        text-align: right;\n",
       "    }\n",
       "</style>\n",
       "<table border=\"1\" class=\"dataframe\">\n",
       "  <thead>\n",
       "    <tr style=\"text-align: right;\">\n",
       "      <th></th>\n",
       "      <th>category_two</th>\n",
       "      <th>category_four</th>\n",
       "      <th>size</th>\n",
       "    </tr>\n",
       "  </thead>\n",
       "  <tbody>\n",
       "    <tr>\n",
       "      <th>0</th>\n",
       "      <td>small and medium-sized enterprises</td>\n",
       "      <td>Medium-sized enterprises</td>\n",
       "      <td>50</td>\n",
       "    </tr>\n",
       "    <tr>\n",
       "      <th>1</th>\n",
       "      <td>small and medium-sized enterprises</td>\n",
       "      <td>Large enterprises</td>\n",
       "      <td>200</td>\n",
       "    </tr>\n",
       "    <tr>\n",
       "      <th>2</th>\n",
       "      <td>small and medium-sized enterprises</td>\n",
       "      <td>Large enterprises</td>\n",
       "      <td>200</td>\n",
       "    </tr>\n",
       "    <tr>\n",
       "      <th>3</th>\n",
       "      <td>small and medium-sized enterprises</td>\n",
       "      <td>Large enterprises</td>\n",
       "      <td>200</td>\n",
       "    </tr>\n",
       "    <tr>\n",
       "      <th>4</th>\n",
       "      <td>small and medium-sized enterprises</td>\n",
       "      <td>Small enterprises</td>\n",
       "      <td>10</td>\n",
       "    </tr>\n",
       "  </tbody>\n",
       "</table>\n",
       "</div>"
      ],
      "text/plain": [
       "                         category_two             category_four  size\n",
       "0  small and medium-sized enterprises  Medium-sized enterprises    50\n",
       "1  small and medium-sized enterprises         Large enterprises   200\n",
       "2  small and medium-sized enterprises         Large enterprises   200\n",
       "3  small and medium-sized enterprises         Large enterprises   200\n",
       "4  small and medium-sized enterprises         Small enterprises    10"
      ]
     },
     "execution_count": 2,
     "metadata": {},
     "output_type": "execute_result"
    }
   ],
   "source": [
    "df=pd.read_csv(\"analysis.csv\")\n",
    "df.head()"
   ]
  },
  {
   "cell_type": "code",
   "execution_count": 3,
   "metadata": {},
   "outputs": [
    {
     "name": "stdout",
     "output_type": "stream",
     "text": [
      "Two Category Score:  0.57\n",
      "Four Category Score:  0.55\n"
     ]
    }
   ],
   "source": [
    "df[\"size_log\"]=np.log(df[[\"size\"]])\n",
    "silhouette_avg = silhouette_score(np.asarray(df[\"size_log\"]).reshape(-1,1), np.array(df['category_two']))\n",
    "print(\"Two Category Score: \",round(silhouette_avg,2))\n",
    "silhouette_avg = silhouette_score(np.asarray(df[\"size_log\"]).reshape(-1,1), np.array(df['category_four']))\n",
    "print(\"Four Category Score: \",round(silhouette_avg,2))"
   ]
  }
 ],
 "metadata": {
  "kernelspec": {
   "display_name": "Python 3",
   "language": "python",
   "name": "python3"
  },
  "language_info": {
   "codemirror_mode": {
    "name": "ipython",
    "version": 3
   },
   "file_extension": ".py",
   "mimetype": "text/x-python",
   "name": "python",
   "nbconvert_exporter": "python",
   "pygments_lexer": "ipython3",
   "version": "3.6.5"
  }
 },
 "nbformat": 4,
 "nbformat_minor": 2
}
